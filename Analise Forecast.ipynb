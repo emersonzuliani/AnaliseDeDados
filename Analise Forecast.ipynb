{
 "cells": [
  {
   "cell_type": "markdown",
   "metadata": {},
   "source": [
    "# Análise de dados - Forecast de Projetos\n",
    "\n",
    "Analisar dados do relatório de Forecast de Projetos\n",
    "\n",
    "Analisar:\n",
    "1. Total de horas - ok\n",
    "2. Total de horas de recursos genéricos - ok\n",
    "3. Total de horas não confirmadas - ok"
   ]
  },
  {
   "cell_type": "code",
   "execution_count": 1,
   "metadata": {},
   "outputs": [],
   "source": [
    "import pandas as pd\n",
    "import numpy as np"
   ]
  },
  {
   "cell_type": "code",
   "execution_count": 2,
   "metadata": {},
   "outputs": [],
   "source": [
    "#importar arquivo do forecast\n",
    "df = pd.read_excel('forecast.xlsx')"
   ]
  },
  {
   "cell_type": "code",
   "execution_count": 3,
   "metadata": {},
   "outputs": [
    {
     "data": {
      "text/plain": [
       "[RangeIndex(start=0, stop=1087, step=1),\n",
       " Index(['Emp.', 'FILIAL', 'Técnico', 'Nome do Técnico', 'Ordem Serviço',\n",
       "        'Cliente', 'Loja', 'Nome do Cliente', 'Cod.Fornecedor',\n",
       "        'Nome Fornecedor', 'CODSEG', 'DESSEG', 'Projeto', 'FRENTE',\n",
       "        'Descrição do Projeto', 'Tipo Projeto', 'Desc.Tipo Projeto',\n",
       "        'Cod. Un. (CFP)', 'Desc. Un. (CFP)', 'Un. (Responsavel)',\n",
       "        'Desc. Un. (Responsavel)', 'INICIOCFP', 'STATUSCFP', 'COORDCFP',\n",
       "        'NOMCOORDC', 'GPP Tecnico', 'Nome do GPP do Tecnico', 'Coord. Tecnico',\n",
       "        'Nome do Coordenador do Tecnico', 'Tipo Serviço', 'Desc.Tipo Srv',\n",
       "        'Celular', 'Cargo', 'Desc. Cargo', 'Data', 'GPP Projeto',\n",
       "        'Nome GPP Projeto', 'Motivo do CFP', 'Desc. Motivo CFP',\n",
       "        'Motivo Agenda', 'Desc. Motivo Agenda', 'Hr. Início', 'Hr. Final',\n",
       "        'Hr. Traslado', 'Hr. Abatimento', 'Hr. Total', 'Hora Total (N)',\n",
       "        'Status', 'Nome Solicitante', 'TPMOTIVO', 'Cod. Un. (Técnico)',\n",
       "        'Desc. Un. (Técnico)', 'Cod. Un. (Agenda)', 'Status.1', 'Descricao',\n",
       "        'Total', 'Proposta3os', 'VlrHr3os', 'ValorHora', 'Origem', 'Custo',\n",
       "        'Status OS', 'Status PG', 'Venc.Real'],\n",
       "       dtype='object')]"
      ]
     },
     "execution_count": 3,
     "metadata": {},
     "output_type": "execute_result"
    }
   ],
   "source": [
    "#traz as colunas do Dataframe\n",
    "df.axes"
   ]
  },
  {
   "cell_type": "code",
   "execution_count": 4,
   "metadata": {},
   "outputs": [
    {
     "data": {
      "text/plain": [
       "7944.42"
      ]
     },
     "execution_count": 4,
     "metadata": {},
     "output_type": "execute_result"
    }
   ],
   "source": [
    "#traz volume de horas total \n",
    "np.sum(df['Hora Total (N)'])"
   ]
  },
  {
   "cell_type": "code",
   "execution_count": 8,
   "metadata": {},
   "outputs": [
    {
     "name": "stdout",
     "output_type": "stream",
     "text": [
      "[100001, 100002, 100003, 100004, 100005, 100006, 100007, 100008, 100009, 100010, 100011, 100012, 100013, 100014, 100015, 100016, 100017, 100018, 100019, 100020, 100021]\n"
     ]
    }
   ],
   "source": [
    "#Lista de recursos genéricos (100001 à 1000021)\n",
    "genericos = []\n",
    "for i in range(21):\n",
    "    genericos.append(100001 + i)\n",
    "print(genericos)"
   ]
  },
  {
   "cell_type": "code",
   "execution_count": 9,
   "metadata": {},
   "outputs": [],
   "source": [
    "dt_referencia = '2018-07-31'"
   ]
  },
  {
   "cell_type": "code",
   "execution_count": 10,
   "metadata": {},
   "outputs": [
    {
     "data": {
      "text/plain": [
       "Nome do Técnico\n",
       "GENERICO - ANALISTA I DE SERVIÇOS                                4.0\n",
       "GENERICO - TERCEIRO                                             80.0\n",
       "Name: Hora Total (N), dtype: float64"
      ]
     },
     "execution_count": 10,
     "metadata": {},
     "output_type": "execute_result"
    }
   ],
   "source": [
    "#filtrar técnico genérico\n",
    "generico_df = df.query('Técnico in @genericos').query('Data <= @dt_referencia')\n",
    "#mostrar total de horas alocadas em recursos genéricos\n",
    "generico_df.groupby('Nome do Técnico').agg('sum')['Hora Total (N)']"
   ]
  },
  {
   "cell_type": "code",
   "execution_count": 12,
   "metadata": {},
   "outputs": [
    {
     "data": {
      "text/html": [
       "<div>\n",
       "<style scoped>\n",
       "    .dataframe tbody tr th:only-of-type {\n",
       "        vertical-align: middle;\n",
       "    }\n",
       "\n",
       "    .dataframe tbody tr th {\n",
       "        vertical-align: top;\n",
       "    }\n",
       "\n",
       "    .dataframe thead th {\n",
       "        text-align: right;\n",
       "    }\n",
       "</style>\n",
       "<table border=\"1\" class=\"dataframe\">\n",
       "  <thead>\n",
       "    <tr style=\"text-align: right;\">\n",
       "      <th></th>\n",
       "      <th>Técnico</th>\n",
       "      <th>Nome do Técnico</th>\n",
       "      <th>Data</th>\n",
       "      <th>Projeto</th>\n",
       "      <th>Hora Total (N)</th>\n",
       "    </tr>\n",
       "  </thead>\n",
       "  <tbody>\n",
       "    <tr>\n",
       "      <th>5</th>\n",
       "      <td>100021</td>\n",
       "      <td>GENERICO - TERCEIRO                           ...</td>\n",
       "      <td>2018-07-23</td>\n",
       "      <td>38195</td>\n",
       "      <td>8.0</td>\n",
       "    </tr>\n",
       "    <tr>\n",
       "      <th>6</th>\n",
       "      <td>100021</td>\n",
       "      <td>GENERICO - TERCEIRO                           ...</td>\n",
       "      <td>2018-07-24</td>\n",
       "      <td>38195</td>\n",
       "      <td>8.0</td>\n",
       "    </tr>\n",
       "    <tr>\n",
       "      <th>7</th>\n",
       "      <td>100021</td>\n",
       "      <td>GENERICO - TERCEIRO                           ...</td>\n",
       "      <td>2018-07-25</td>\n",
       "      <td>38195</td>\n",
       "      <td>8.0</td>\n",
       "    </tr>\n",
       "    <tr>\n",
       "      <th>8</th>\n",
       "      <td>100021</td>\n",
       "      <td>GENERICO - TERCEIRO                           ...</td>\n",
       "      <td>2018-07-26</td>\n",
       "      <td>38195</td>\n",
       "      <td>8.0</td>\n",
       "    </tr>\n",
       "    <tr>\n",
       "      <th>9</th>\n",
       "      <td>100021</td>\n",
       "      <td>GENERICO - TERCEIRO                           ...</td>\n",
       "      <td>2018-07-27</td>\n",
       "      <td>38195</td>\n",
       "      <td>8.0</td>\n",
       "    </tr>\n",
       "    <tr>\n",
       "      <th>10</th>\n",
       "      <td>100003</td>\n",
       "      <td>GENERICO - ANALISTA I DE SERVIÇOS             ...</td>\n",
       "      <td>2018-07-31</td>\n",
       "      <td>38195</td>\n",
       "      <td>4.0</td>\n",
       "    </tr>\n",
       "    <tr>\n",
       "      <th>503</th>\n",
       "      <td>100021</td>\n",
       "      <td>GENERICO - TERCEIRO                           ...</td>\n",
       "      <td>2018-07-02</td>\n",
       "      <td>34783</td>\n",
       "      <td>8.0</td>\n",
       "    </tr>\n",
       "    <tr>\n",
       "      <th>505</th>\n",
       "      <td>100021</td>\n",
       "      <td>GENERICO - TERCEIRO                           ...</td>\n",
       "      <td>2018-07-03</td>\n",
       "      <td>34783</td>\n",
       "      <td>8.0</td>\n",
       "    </tr>\n",
       "    <tr>\n",
       "      <th>507</th>\n",
       "      <td>100021</td>\n",
       "      <td>GENERICO - TERCEIRO                           ...</td>\n",
       "      <td>2018-07-04</td>\n",
       "      <td>34783</td>\n",
       "      <td>8.0</td>\n",
       "    </tr>\n",
       "    <tr>\n",
       "      <th>509</th>\n",
       "      <td>100021</td>\n",
       "      <td>GENERICO - TERCEIRO                           ...</td>\n",
       "      <td>2018-07-05</td>\n",
       "      <td>34783</td>\n",
       "      <td>8.0</td>\n",
       "    </tr>\n",
       "    <tr>\n",
       "      <th>511</th>\n",
       "      <td>100021</td>\n",
       "      <td>GENERICO - TERCEIRO                           ...</td>\n",
       "      <td>2018-07-06</td>\n",
       "      <td>34783</td>\n",
       "      <td>8.0</td>\n",
       "    </tr>\n",
       "  </tbody>\n",
       "</table>\n",
       "</div>"
      ],
      "text/plain": [
       "     Técnico                                    Nome do Técnico       Data  \\\n",
       "5     100021  GENERICO - TERCEIRO                           ... 2018-07-23   \n",
       "6     100021  GENERICO - TERCEIRO                           ... 2018-07-24   \n",
       "7     100021  GENERICO - TERCEIRO                           ... 2018-07-25   \n",
       "8     100021  GENERICO - TERCEIRO                           ... 2018-07-26   \n",
       "9     100021  GENERICO - TERCEIRO                           ... 2018-07-27   \n",
       "10    100003  GENERICO - ANALISTA I DE SERVIÇOS             ... 2018-07-31   \n",
       "503   100021  GENERICO - TERCEIRO                           ... 2018-07-02   \n",
       "505   100021  GENERICO - TERCEIRO                           ... 2018-07-03   \n",
       "507   100021  GENERICO - TERCEIRO                           ... 2018-07-04   \n",
       "509   100021  GENERICO - TERCEIRO                           ... 2018-07-05   \n",
       "511   100021  GENERICO - TERCEIRO                           ... 2018-07-06   \n",
       "\n",
       "     Projeto  Hora Total (N)  \n",
       "5      38195             8.0  \n",
       "6      38195             8.0  \n",
       "7      38195             8.0  \n",
       "8      38195             8.0  \n",
       "9      38195             8.0  \n",
       "10     38195             4.0  \n",
       "503    34783             8.0  \n",
       "505    34783             8.0  \n",
       "507    34783             8.0  \n",
       "509    34783             8.0  \n",
       "511    34783             8.0  "
      ]
     },
     "execution_count": 12,
     "metadata": {},
     "output_type": "execute_result"
    }
   ],
   "source": [
    "#listar recursos genéricos alocados.\n",
    "generico_df[['Técnico', 'Nome do Técnico', 'Data', 'Projeto', 'Hora Total (N)']]"
   ]
  },
  {
   "cell_type": "code",
   "execution_count": 13,
   "metadata": {},
   "outputs": [],
   "source": [
    "#Definir período para totalização de horas por status\n",
    "dt_inicial = '2018-07-01'\n",
    "dt_final = '2018-07-31'\n",
    "#Filtrar período\n",
    "mes_df = df.query('Data >= @dt_inicial').query('Data <= @dt_final')"
   ]
  },
  {
   "cell_type": "code",
   "execution_count": 14,
   "metadata": {},
   "outputs": [
    {
     "data": {
      "text/plain": [
       "Nome do Técnico\n",
       "DIEGO GODOI DE SOUZA                                             12.0\n",
       "EMERSON ROGER ZULIANI                                           149.5\n",
       "FAUSTO DE ANDRADE ROSSITO                                        32.0\n",
       "FILIPE BAPTISTELLA MAIA                                           7.0\n",
       "GENERICO - ANALISTA I DE SERVIÇOS                                 4.0\n",
       "GENERICO - TERCEIRO                                              80.0\n",
       "JOAO LUIS GUIMARAES CRUZ                                         80.0\n",
       "JOSE ALBERTO DA SILVA                                             6.0\n",
       "LEONARDO RIZZO PIPOLO                                            16.0\n",
       "RODRIGO AUGUSTO MARTINS                                          40.0\n",
       "RODRIGO BREVIGLIERI                                              40.0\n",
       "ROGERIO LUIZ VARANDA                                             80.0\n",
       "Name: Hora Total (N), dtype: float64"
      ]
     },
     "execution_count": 14,
     "metadata": {},
     "output_type": "execute_result"
    }
   ],
   "source": [
    "mes_df.groupby('Nome do Técnico').agg('sum')['Hora Total (N)']"
   ]
  },
  {
   "cell_type": "code",
   "execution_count": 15,
   "metadata": {},
   "outputs": [
    {
     "data": {
      "text/plain": [
       "546.5"
      ]
     },
     "execution_count": 15,
     "metadata": {},
     "output_type": "execute_result"
    }
   ],
   "source": [
    "np.sum(mes_df['Hora Total (N)'])"
   ]
  },
  {
   "cell_type": "code",
   "execution_count": 17,
   "metadata": {},
   "outputs": [
    {
     "data": {
      "text/plain": [
       "Status\n",
       "OS AGENDADA        538.5\n",
       "OS CONFIRMADA        8.0\n",
       "Name: Hora Total (N), dtype: float64"
      ]
     },
     "execution_count": 17,
     "metadata": {},
     "output_type": "execute_result"
    }
   ],
   "source": [
    "#Total por Status\n",
    "mes_df.groupby('Status').agg('sum')['Hora Total (N)']"
   ]
  },
  {
   "cell_type": "markdown",
   "metadata": {},
   "source": [
    "# Verificar horas não confirmadas\n"
   ]
  },
  {
   "cell_type": "code",
   "execution_count": 18,
   "metadata": {},
   "outputs": [],
   "source": [
    "#total de horas não confirmadas até a data de referencia\n",
    "dt_referencia = '2018-06-30'\n",
    "nao_conf_df = df[(df['Status'] == 'OS AGENDADA    ') & (df['Data'] <= dt_referencia)]"
   ]
  },
  {
   "cell_type": "code",
   "execution_count": 19,
   "metadata": {},
   "outputs": [],
   "source": [
    "df1 = nao_conf_df.groupby('Nome do Técnico').agg('sum')['Hora Total (N)']"
   ]
  },
  {
   "cell_type": "code",
   "execution_count": 20,
   "metadata": {},
   "outputs": [
    {
     "data": {
      "text/plain": [
       "Nome do Técnico\n",
       "RODRIGO AUGUSTO MARTINS                                           8.0\n",
       "ROGERIO LUIZ VARANDA                                            104.0\n",
       "Name: Hora Total (N), dtype: float64"
      ]
     },
     "execution_count": 20,
     "metadata": {},
     "output_type": "execute_result"
    }
   ],
   "source": [
    "df1"
   ]
  },
  {
   "cell_type": "code",
   "execution_count": 21,
   "metadata": {},
   "outputs": [
    {
     "name": "stdout",
     "output_type": "stream",
     "text": [
      "Total de horas não confirmadas: 112.00\n"
     ]
    }
   ],
   "source": [
    "#Total não confirmado\n",
    "print('Total de horas não confirmadas: {:.2f}'.format(np.sum(nao_conf_df['Hora Total (N)'])))"
   ]
  },
  {
   "cell_type": "code",
   "execution_count": 22,
   "metadata": {},
   "outputs": [],
   "source": [
    "df2 = nao_conf_df[['Técnico', 'Nome do Técnico', 'Data', 'Projeto', 'Hora Total (N)']].sort_values(by=['Nome do Técnico', 'Data'])"
   ]
  },
  {
   "cell_type": "code",
   "execution_count": 23,
   "metadata": {},
   "outputs": [
    {
     "data": {
      "text/html": [
       "<div>\n",
       "<style scoped>\n",
       "    .dataframe tbody tr th:only-of-type {\n",
       "        vertical-align: middle;\n",
       "    }\n",
       "\n",
       "    .dataframe tbody tr th {\n",
       "        vertical-align: top;\n",
       "    }\n",
       "\n",
       "    .dataframe thead th {\n",
       "        text-align: right;\n",
       "    }\n",
       "</style>\n",
       "<table border=\"1\" class=\"dataframe\">\n",
       "  <thead>\n",
       "    <tr style=\"text-align: right;\">\n",
       "      <th></th>\n",
       "      <th>Técnico</th>\n",
       "      <th>Nome do Técnico</th>\n",
       "      <th>Data</th>\n",
       "      <th>Projeto</th>\n",
       "      <th>Hora Total (N)</th>\n",
       "    </tr>\n",
       "  </thead>\n",
       "  <tbody>\n",
       "    <tr>\n",
       "      <th>144</th>\n",
       "      <td>411496</td>\n",
       "      <td>RODRIGO AUGUSTO MARTINS                       ...</td>\n",
       "      <td>2018-06-14</td>\n",
       "      <td>36121</td>\n",
       "      <td>8.0</td>\n",
       "    </tr>\n",
       "    <tr>\n",
       "      <th>886</th>\n",
       "      <td>303793</td>\n",
       "      <td>ROGERIO LUIZ VARANDA                          ...</td>\n",
       "      <td>2018-05-09</td>\n",
       "      <td>24559</td>\n",
       "      <td>8.0</td>\n",
       "    </tr>\n",
       "    <tr>\n",
       "      <th>887</th>\n",
       "      <td>303793</td>\n",
       "      <td>ROGERIO LUIZ VARANDA                          ...</td>\n",
       "      <td>2018-05-10</td>\n",
       "      <td>24559</td>\n",
       "      <td>8.0</td>\n",
       "    </tr>\n",
       "    <tr>\n",
       "      <th>888</th>\n",
       "      <td>303793</td>\n",
       "      <td>ROGERIO LUIZ VARANDA                          ...</td>\n",
       "      <td>2018-05-11</td>\n",
       "      <td>24559</td>\n",
       "      <td>8.0</td>\n",
       "    </tr>\n",
       "    <tr>\n",
       "      <th>889</th>\n",
       "      <td>303793</td>\n",
       "      <td>ROGERIO LUIZ VARANDA                          ...</td>\n",
       "      <td>2018-05-14</td>\n",
       "      <td>24559</td>\n",
       "      <td>8.0</td>\n",
       "    </tr>\n",
       "    <tr>\n",
       "      <th>890</th>\n",
       "      <td>303793</td>\n",
       "      <td>ROGERIO LUIZ VARANDA                          ...</td>\n",
       "      <td>2018-05-15</td>\n",
       "      <td>24559</td>\n",
       "      <td>8.0</td>\n",
       "    </tr>\n",
       "    <tr>\n",
       "      <th>891</th>\n",
       "      <td>303793</td>\n",
       "      <td>ROGERIO LUIZ VARANDA                          ...</td>\n",
       "      <td>2018-05-16</td>\n",
       "      <td>24559</td>\n",
       "      <td>8.0</td>\n",
       "    </tr>\n",
       "    <tr>\n",
       "      <th>892</th>\n",
       "      <td>303793</td>\n",
       "      <td>ROGERIO LUIZ VARANDA                          ...</td>\n",
       "      <td>2018-05-17</td>\n",
       "      <td>24559</td>\n",
       "      <td>8.0</td>\n",
       "    </tr>\n",
       "    <tr>\n",
       "      <th>893</th>\n",
       "      <td>303793</td>\n",
       "      <td>ROGERIO LUIZ VARANDA                          ...</td>\n",
       "      <td>2018-05-18</td>\n",
       "      <td>24559</td>\n",
       "      <td>8.0</td>\n",
       "    </tr>\n",
       "    <tr>\n",
       "      <th>894</th>\n",
       "      <td>303793</td>\n",
       "      <td>ROGERIO LUIZ VARANDA                          ...</td>\n",
       "      <td>2018-05-21</td>\n",
       "      <td>24559</td>\n",
       "      <td>8.0</td>\n",
       "    </tr>\n",
       "    <tr>\n",
       "      <th>895</th>\n",
       "      <td>303793</td>\n",
       "      <td>ROGERIO LUIZ VARANDA                          ...</td>\n",
       "      <td>2018-05-22</td>\n",
       "      <td>24559</td>\n",
       "      <td>8.0</td>\n",
       "    </tr>\n",
       "    <tr>\n",
       "      <th>896</th>\n",
       "      <td>303793</td>\n",
       "      <td>ROGERIO LUIZ VARANDA                          ...</td>\n",
       "      <td>2018-05-23</td>\n",
       "      <td>24559</td>\n",
       "      <td>8.0</td>\n",
       "    </tr>\n",
       "    <tr>\n",
       "      <th>897</th>\n",
       "      <td>303793</td>\n",
       "      <td>ROGERIO LUIZ VARANDA                          ...</td>\n",
       "      <td>2018-05-24</td>\n",
       "      <td>24559</td>\n",
       "      <td>8.0</td>\n",
       "    </tr>\n",
       "    <tr>\n",
       "      <th>898</th>\n",
       "      <td>303793</td>\n",
       "      <td>ROGERIO LUIZ VARANDA                          ...</td>\n",
       "      <td>2018-05-25</td>\n",
       "      <td>24559</td>\n",
       "      <td>8.0</td>\n",
       "    </tr>\n",
       "  </tbody>\n",
       "</table>\n",
       "</div>"
      ],
      "text/plain": [
       "     Técnico                                    Nome do Técnico       Data  \\\n",
       "144   411496  RODRIGO AUGUSTO MARTINS                       ... 2018-06-14   \n",
       "886   303793  ROGERIO LUIZ VARANDA                          ... 2018-05-09   \n",
       "887   303793  ROGERIO LUIZ VARANDA                          ... 2018-05-10   \n",
       "888   303793  ROGERIO LUIZ VARANDA                          ... 2018-05-11   \n",
       "889   303793  ROGERIO LUIZ VARANDA                          ... 2018-05-14   \n",
       "890   303793  ROGERIO LUIZ VARANDA                          ... 2018-05-15   \n",
       "891   303793  ROGERIO LUIZ VARANDA                          ... 2018-05-16   \n",
       "892   303793  ROGERIO LUIZ VARANDA                          ... 2018-05-17   \n",
       "893   303793  ROGERIO LUIZ VARANDA                          ... 2018-05-18   \n",
       "894   303793  ROGERIO LUIZ VARANDA                          ... 2018-05-21   \n",
       "895   303793  ROGERIO LUIZ VARANDA                          ... 2018-05-22   \n",
       "896   303793  ROGERIO LUIZ VARANDA                          ... 2018-05-23   \n",
       "897   303793  ROGERIO LUIZ VARANDA                          ... 2018-05-24   \n",
       "898   303793  ROGERIO LUIZ VARANDA                          ... 2018-05-25   \n",
       "\n",
       "     Projeto  Hora Total (N)  \n",
       "144    36121             8.0  \n",
       "886    24559             8.0  \n",
       "887    24559             8.0  \n",
       "888    24559             8.0  \n",
       "889    24559             8.0  \n",
       "890    24559             8.0  \n",
       "891    24559             8.0  \n",
       "892    24559             8.0  \n",
       "893    24559             8.0  \n",
       "894    24559             8.0  \n",
       "895    24559             8.0  \n",
       "896    24559             8.0  \n",
       "897    24559             8.0  \n",
       "898    24559             8.0  "
      ]
     },
     "execution_count": 23,
     "metadata": {},
     "output_type": "execute_result"
    }
   ],
   "source": [
    "df2"
   ]
  },
  {
   "cell_type": "code",
   "execution_count": 24,
   "metadata": {},
   "outputs": [],
   "source": [
    "#salvando resultados\n",
    "df2.to_excel('voits.xlsx', sheet_name='nao_conf')"
   ]
  },
  {
   "cell_type": "code",
   "execution_count": null,
   "metadata": {},
   "outputs": [],
   "source": []
  }
 ],
 "metadata": {
  "kernelspec": {
   "display_name": "Python 3",
   "language": "python",
   "name": "python3"
  },
  "language_info": {
   "codemirror_mode": {
    "name": "ipython",
    "version": 3
   },
   "file_extension": ".py",
   "mimetype": "text/x-python",
   "name": "python",
   "nbconvert_exporter": "python",
   "pygments_lexer": "ipython3",
   "version": "3.6.4"
  }
 },
 "nbformat": 4,
 "nbformat_minor": 2
}
